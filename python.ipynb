{
  "nbformat": 4,
  "nbformat_minor": 0,
  "metadata": {
    "colab": {
      "provenance": [],
      "authorship_tag": "ABX9TyNf8j1zy1zYgnsZeMcfRMVM",
      "include_colab_link": true
    },
    "kernelspec": {
      "name": "python3",
      "display_name": "Python 3"
    },
    "language_info": {
      "name": "python"
    }
  },
  "cells": [
    {
      "cell_type": "markdown",
      "metadata": {
        "id": "view-in-github",
        "colab_type": "text"
      },
      "source": [
        "<a href=\"https://colab.research.google.com/github/Fahima-anny/python-basic/blob/main/python.ipynb\" target=\"_parent\"><img src=\"https://colab.research.google.com/assets/colab-badge.svg\" alt=\"Open In Colab\"/></a>"
      ]
    },
    {
      "cell_type": "markdown",
      "source": [],
      "metadata": {
        "id": "ArufIWZT-buQ"
      }
    },
    {
      "cell_type": "code",
      "execution_count": null,
      "metadata": {
        "colab": {
          "base_uri": "https://localhost:8080/"
        },
        "id": "39wNmscC9vXt",
        "outputId": "8dfb00c3-5812-4e25-df73-979215d12567"
      },
      "outputs": [
        {
          "output_type": "stream",
          "name": "stdout",
          "text": [
            "Integer  is:  5\n"
          ]
        }
      ],
      "source": [
        " #integer\n",
        "x  =  5\n",
        "print(\"Integer  is: \", x)"
      ]
    },
    {
      "cell_type": "code",
      "source": [
        "#float\n",
        "y = 5.5\n",
        "print(\"Float : \", y)"
      ],
      "metadata": {
        "colab": {
          "base_uri": "https://localhost:8080/"
        },
        "id": "ztQhZUdAEr5a",
        "outputId": "b0576889-59aa-4226-e915-d3c424c5cd7e"
      },
      "execution_count": null,
      "outputs": [
        {
          "output_type": "stream",
          "name": "stdout",
          "text": [
            "Float :  5.5\n"
          ]
        }
      ]
    },
    {
      "cell_type": "code",
      "source": [
        "#string\n",
        "name = \"Fahima Akter\"\n",
        "print(\"My name is \", name)"
      ],
      "metadata": {
        "colab": {
          "base_uri": "https://localhost:8080/"
        },
        "id": "igXDFM-_Id7F",
        "outputId": "d0840fc2-aa81-4c95-85e6-1606de4b675e"
      },
      "execution_count": null,
      "outputs": [
        {
          "output_type": "stream",
          "name": "stdout",
          "text": [
            "My name is  Fahima Akter\n"
          ]
        }
      ]
    },
    {
      "cell_type": "code",
      "source": [
        "#getting user info\n",
        "user_name = input(\"Enter your name\")\n",
        "print(\"Hello \", user_name)"
      ],
      "metadata": {
        "colab": {
          "base_uri": "https://localhost:8080/"
        },
        "id": "tXpoT2XsMKfp",
        "outputId": "81a670d6-7374-4421-90dc-c05f9b2a8c26"
      },
      "execution_count": null,
      "outputs": [
        {
          "output_type": "stream",
          "name": "stdout",
          "text": [
            "Enter your nameFahima\n",
            "Hello  Fahima\n"
          ]
        }
      ]
    },
    {
      "cell_type": "code",
      "source": [
        "#boolean\n",
        "is_the_day_sunny = False\n",
        "print(\"Boolean :\", is_the_day_sunny)"
      ],
      "metadata": {
        "colab": {
          "base_uri": "https://localhost:8080/"
        },
        "id": "cfLhh2boMCpa",
        "outputId": "6e2ec4c5-902a-495b-a505-60c7045f4090"
      },
      "execution_count": null,
      "outputs": [
        {
          "output_type": "stream",
          "name": "stdout",
          "text": [
            "Boolean : False\n"
          ]
        }
      ]
    },
    {
      "cell_type": "markdown",
      "source": [],
      "metadata": {
        "id": "HH3jxm3kIjBk"
      }
    },
    {
      "cell_type": "code",
      "source": [
        "# Condition\n",
        "age_of_user  = int(input(\"Enter your age\"))\n",
        "if  age_of_user >= 18 :\n",
        "  print(\"You are an adult.\")\n",
        "else :\n",
        "  print(\"You are child.\")\n"
      ],
      "metadata": {
        "colab": {
          "base_uri": "https://localhost:8080/"
        },
        "id": "nnZlvYRPQ_bC",
        "outputId": "d8a05976-a72d-409b-e96f-2651f496a829"
      },
      "execution_count": null,
      "outputs": [
        {
          "output_type": "stream",
          "name": "stdout",
          "text": [
            "Enter your age24\n",
            "You are an adult.\n"
          ]
        }
      ]
    },
    {
      "cell_type": "code",
      "source": [
        "#For Loop\n",
        "for i in range(3) :\n",
        "  print(\"Number\", i)"
      ],
      "metadata": {
        "id": "8cLavXIARaiq",
        "colab": {
          "base_uri": "https://localhost:8080/"
        },
        "outputId": "ecc4767e-3b95-48de-9270-c98b7cde9e94"
      },
      "execution_count": null,
      "outputs": [
        {
          "output_type": "stream",
          "name": "stdout",
          "text": [
            "Number 0\n",
            "Number 1\n",
            "Number 2\n"
          ]
        }
      ]
    },
    {
      "cell_type": "code",
      "source": [
        "#List range with interval\n",
        "list(range(1,15,3))"
      ],
      "metadata": {
        "colab": {
          "base_uri": "https://localhost:8080/"
        },
        "id": "EpRqtm5EY5aL",
        "outputId": "40e50df5-58a6-4c40-b1ad-f0fb6b9d43d6"
      },
      "execution_count": null,
      "outputs": [
        {
          "output_type": "execute_result",
          "data": {
            "text/plain": [
              "[1, 4, 7, 10, 13]"
            ]
          },
          "metadata": {},
          "execution_count": 32
        }
      ]
    },
    {
      "cell_type": "code",
      "source": [
        "a = ['fahima', 'is', 'trying', 'hard', 'for', 'better', 'future']\n",
        "for i in range(len(a)) :\n",
        "  print(i, a[i])"
      ],
      "metadata": {
        "colab": {
          "base_uri": "https://localhost:8080/"
        },
        "id": "INrOQ-J_cR7d",
        "outputId": "e0878d87-e3cb-4b21-d0c5-2f9f5947a315"
      },
      "execution_count": null,
      "outputs": [
        {
          "output_type": "stream",
          "name": "stdout",
          "text": [
            "0 fahima\n",
            "1 is\n",
            "2 trying\n",
            "3 hard\n",
            "4 for\n",
            "5 better\n",
            "6 future\n"
          ]
        }
      ]
    },
    {
      "cell_type": "code",
      "source": [
        "#HW\n",
        "list(range(1, 6))\n",
        "# print(\"Number :\", i)"
      ],
      "metadata": {
        "colab": {
          "base_uri": "https://localhost:8080/"
        },
        "id": "sp__s5i6X0SM",
        "outputId": "521ab19a-ba43-4216-8f88-fecbf4c8b875"
      },
      "execution_count": null,
      "outputs": [
        {
          "output_type": "execute_result",
          "data": {
            "text/plain": [
              "[1, 2, 3, 4, 5]"
            ]
          },
          "metadata": {},
          "execution_count": 31
        }
      ]
    },
    {
      "cell_type": "code",
      "source": [
        "#While loop\n",
        "i = 0\n",
        "while i <=10 :\n",
        "  print(i)\n",
        "  i += 2"
      ],
      "metadata": {
        "colab": {
          "base_uri": "https://localhost:8080/"
        },
        "id": "t7BeVNjLfThy",
        "outputId": "11ee5404-448f-4d60-9c17-433f539d482c"
      },
      "execution_count": null,
      "outputs": [
        {
          "output_type": "stream",
          "name": "stdout",
          "text": [
            "0\n",
            "2\n",
            "4\n",
            "6\n",
            "8\n",
            "10\n"
          ]
        }
      ]
    },
    {
      "cell_type": "code",
      "source": [
        "#list append\n",
        "a = ['apple', 'banana', 'lichi']\n",
        "a.append('mango')\n",
        "a.append('jackfruit')\n",
        "print(a)\n",
        "print(a[3])"
      ],
      "metadata": {
        "colab": {
          "base_uri": "https://localhost:8080/"
        },
        "id": "Vo27JUoUlm9j",
        "outputId": "d955b8f6-0f55-48e8-a967-dd4c573fcafc"
      },
      "execution_count": null,
      "outputs": [
        {
          "output_type": "stream",
          "name": "stdout",
          "text": [
            "['apple', 'banana', 'lichi', 'mango', 'jackfruit']\n",
            "mango\n"
          ]
        }
      ]
    },
    {
      "cell_type": "code",
      "source": [
        "#Function\n",
        "def greet(name):\n",
        "  print(\"Hello \", name )\n",
        "\n",
        "name = input(\"Enter Your Name \")\n",
        "greet(name)"
      ],
      "metadata": {
        "colab": {
          "base_uri": "https://localhost:8080/"
        },
        "id": "W1z-ACm5migS",
        "outputId": "d9659e0d-cab6-4434-a801-93e23c4ad029"
      },
      "execution_count": null,
      "outputs": [
        {
          "output_type": "stream",
          "name": "stdout",
          "text": [
            "Enter Your Name Anny\n",
            "Hello  Anny\n"
          ]
        }
      ]
    },
    {
      "cell_type": "code",
      "source": [
        "#Dictionaries\n",
        "student = {\"name\": \"Fahima\", \"age\": 24, \"Grade\": \"A\"}\n",
        "print(\"Student's data : \", student)\n",
        "print(\"Student's grade :  \", student[\"Grade\"])"
      ],
      "metadata": {
        "colab": {
          "base_uri": "https://localhost:8080/"
        },
        "id": "8Guo_53cnY8R",
        "outputId": "1e287f7e-6d9c-4749-c8f9-b45adcecacec"
      },
      "execution_count": null,
      "outputs": [
        {
          "output_type": "stream",
          "name": "stdout",
          "text": [
            "Student's data :  {'name': 'Fahima', 'age': 24, 'Grade': 'A'}\n",
            "Student's grade :   A\n"
          ]
        }
      ]
    },
    {
      "cell_type": "code",
      "source": [
        "# Loops with lists\n",
        "colors = [\"red\", \"blue\", \"purple\"]\n",
        "for color in colors :\n",
        "  print(\"Color :\" , color)"
      ],
      "metadata": {
        "colab": {
          "base_uri": "https://localhost:8080/"
        },
        "id": "WQNjtx53sEVT",
        "outputId": "e90cb282-7bd8-4ade-efd2-48af0c610702"
      },
      "execution_count": null,
      "outputs": [
        {
          "output_type": "stream",
          "name": "stdout",
          "text": [
            "Color : red\n",
            "Color : blue\n",
            "Color : purple\n"
          ]
        }
      ]
    },
    {
      "cell_type": "code",
      "source": [],
      "metadata": {
        "id": "6gwW6LgusbqL"
      },
      "execution_count": null,
      "outputs": []
    }
  ]
}